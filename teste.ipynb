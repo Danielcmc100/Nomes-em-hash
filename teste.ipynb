{
 "cells": [
  {
   "cell_type": "code",
   "execution_count": 9,
   "metadata": {},
   "outputs": [],
   "source": [
    "import random\n",
    "import string\n",
    "\n",
    "def gerar_palavra(tamanho):\n",
    "    letras = string.ascii_lowercase\n",
    "    return ''.join(random.choice(letras) for _ in range(tamanho))"
   ]
  },
  {
   "cell_type": "code",
   "execution_count": 4,
   "metadata": {},
   "outputs": [],
   "source": [
    "tamanho_tabela = 10"
   ]
  },
  {
   "cell_type": "code",
   "execution_count": 2,
   "metadata": {},
   "outputs": [],
   "source": [
    "def hash_divisao(nome, tamanho_tabela):\n",
    "        return sum(ord(c) for c in nome) % tamanho_tabela"
   ]
  },
  {
   "cell_type": "code",
   "execution_count": 129,
   "metadata": {},
   "outputs": [],
   "source": [
    "def hash_multiplicacao(chave, quantidade_bits):\n",
    "    dobro = chave ** 2\n",
    "    bits = bin(dobro)[2:]\n",
    "    bits_a_cortar = len(bits) - quantidade_bits\n",
    "    # print(bits_a_cortar)\n",
    "    # if(bits_a_cortar < 0):\n",
    "        \n",
    "    # print(bits[bits_a_cortar:-bits_a_cortar])\n",
    "    return int(bits[bits_a_cortar:-bits_a_cortar], 2)"
   ]
  },
  {
   "cell_type": "code",
   "execution_count": 142,
   "metadata": {},
   "outputs": [
    {
     "name": "stdout",
     "output_type": "stream",
     "text": [
      "10010000\n",
      "10010000\n",
      "100100\n"
     ]
    }
   ],
   "source": [
    "print('10010000')\n",
    "print(bin(144)[2:])\n",
    "print(\"100100\")"
   ]
  },
  {
   "cell_type": "code",
   "execution_count": 130,
   "metadata": {},
   "outputs": [
    {
     "data": {
      "text/plain": [
       "4"
      ]
     },
     "execution_count": 130,
     "metadata": {},
     "output_type": "execute_result"
    }
   ],
   "source": [
    "hash_multiplicacao(12, 6)"
   ]
  }
 ],
 "metadata": {
  "kernelspec": {
   "display_name": "Python 3",
   "language": "python",
   "name": "python3"
  },
  "language_info": {
   "codemirror_mode": {
    "name": "ipython",
    "version": 3
   },
   "file_extension": ".py",
   "mimetype": "text/x-python",
   "name": "python",
   "nbconvert_exporter": "python",
   "pygments_lexer": "ipython3",
   "version": "3.12.0"
  }
 },
 "nbformat": 4,
 "nbformat_minor": 2
}
